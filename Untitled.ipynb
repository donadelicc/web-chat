{
 "cells": [
  {
   "cell_type": "code",
   "execution_count": 1,
   "id": "19473ccd",
   "metadata": {},
   "outputs": [],
   "source": [
    "import requests\n",
    "from bs4 import BeautifulSoup\n",
    "from urllib.parse import urlparse, urljoin"
   ]
  },
  {
   "cell_type": "code",
   "execution_count": 2,
   "id": "7ec39f89",
   "metadata": {},
   "outputs": [],
   "source": [
    "def fetch_website_content(url):\n",
    "    try:\n",
    "        response = requests.get(url)\n",
    "        response.raise_for_status()  # Kaster en exception hvis responsen er en 4xx eller 5xx feilkode.\n",
    "\n",
    "        soup = BeautifulSoup(response.text, 'html.parser')\n",
    "\n",
    "        # Fjern alle <script>, <style>, og <link> tags\n",
    "        for script in soup([\"script\", \"style\", \"link\"]):\n",
    "            script.extract()  # fjerner taggen fra soup\n",
    "\n",
    "        text = soup.get_text()\n",
    "\n",
    "        cleaned_text = text.replace('\\n', ' ')\n",
    "\n",
    "\n",
    "        return str(cleaned_text)\n",
    "\n",
    "    except requests.RequestException as e:\n",
    "        return f\"Feil ved henting av nettside: {e}\""
   ]
  },
  {
   "cell_type": "code",
   "execution_count": 3,
   "id": "6d063d52",
   "metadata": {},
   "outputs": [],
   "source": [
    "def get_internal_links(url):\n",
    "    try:\n",
    "        response = requests.get(url)\n",
    "        response.raise_for_status()\n",
    "        \n",
    "        soup = BeautifulSoup(response.text, 'html.parser')\n",
    "        base_url = urlparse(url).scheme + '://' + urlparse(url).netloc\n",
    "        internal_links = set()\n",
    "        \n",
    "        for a_tag in soup.find_all('a', href=True):\n",
    "            href = a_tag.attrs['href']\n",
    "            full_url = urljoin(base_url, href)\n",
    "            if base_url in full_url:  # Dette sjekker om lenken er intern\n",
    "                internal_links.add(full_url)\n",
    "        \n",
    "        return list(internal_links)\n",
    "    \n",
    "    except requests.RequestException as e:\n",
    "        return []"
   ]
  },
  {
   "cell_type": "code",
   "execution_count": 15,
   "id": "3966068a",
   "metadata": {},
   "outputs": [],
   "source": [
    "import pandas as pd\n",
    "\n",
    "base_url = 'https://www.coax.no/'"
   ]
  },
  {
   "cell_type": "code",
   "execution_count": 44,
   "id": "d08ea71c",
   "metadata": {},
   "outputs": [],
   "source": [
    "def scrape_all_pages_to_dataframe(base_url):\n",
    "    # Liste for å holde url og tekst\n",
    "    data_list = []\n",
    "\n",
    "    # Hent interne lenker fra base_url\n",
    "    internal_links = get_internal_links(base_url)\n",
    "\n",
    "    # For hver lenke, hent innholdet og legg til i listen\n",
    "    for link in internal_links:\n",
    "        text_content = fetch_website_content(link)\n",
    "        data_list.append([link, text_content])\n",
    "\n",
    "    # Konverter listen til en pandas DataFrame\n",
    "    df = pd.DataFrame(data_list, columns=['URL', 'Text'])\n",
    "\n",
    "    return df"
   ]
  },
  {
   "cell_type": "code",
   "execution_count": 45,
   "id": "9cb9b8e9",
   "metadata": {},
   "outputs": [],
   "source": [
    "df_crape = scrape_all_pages_to_dataframe(base_url)"
   ]
  },
  {
   "cell_type": "code",
   "execution_count": 46,
   "id": "6f76eeef",
   "metadata": {},
   "outputs": [
    {
     "data": {
      "text/html": [
       "<div>\n",
       "<style scoped>\n",
       "    .dataframe tbody tr th:only-of-type {\n",
       "        vertical-align: middle;\n",
       "    }\n",
       "\n",
       "    .dataframe tbody tr th {\n",
       "        vertical-align: top;\n",
       "    }\n",
       "\n",
       "    .dataframe thead th {\n",
       "        text-align: right;\n",
       "    }\n",
       "</style>\n",
       "<table border=\"1\" class=\"dataframe\">\n",
       "  <thead>\n",
       "    <tr style=\"text-align: right;\">\n",
       "      <th></th>\n",
       "      <th>URL</th>\n",
       "      <th>Text</th>\n",
       "    </tr>\n",
       "  </thead>\n",
       "  <tbody>\n",
       "    <tr>\n",
       "      <th>0</th>\n",
       "      <td>https://www.coax.no/referanser/</td>\n",
       "      <td>COAX Norge ⎜Vannvarmer for bolig, hytte og k...</td>\n",
       "    </tr>\n",
       "    <tr>\n",
       "      <th>1</th>\n",
       "      <td>https://www.coax.no/valg-av-modell/</td>\n",
       "      <td>COAX Norge ⎜Varmtvannsbereder uten tank ⎜Fin...</td>\n",
       "    </tr>\n",
       "    <tr>\n",
       "      <th>2</th>\n",
       "      <td>https://www.coax.no/hytterogfritidsboliger/</td>\n",
       "      <td>COAX Norge ⎜Vannvarmer uten tank ⎜Finn din f...</td>\n",
       "    </tr>\n",
       "    <tr>\n",
       "      <th>3</th>\n",
       "      <td>https://www.coax.no/</td>\n",
       "      <td>COAX Norge ⎜Spar strøm, miljø og plass ⎜Varm...</td>\n",
       "    </tr>\n",
       "    <tr>\n",
       "      <th>4</th>\n",
       "      <td>https://www.coax.no/våre-produkter/</td>\n",
       "      <td>COAX Norge ⎜El-vannvarmer tilpasset forbruke...</td>\n",
       "    </tr>\n",
       "    <tr>\n",
       "      <th>5</th>\n",
       "      <td>https://www.coax.no/kontakt/</td>\n",
       "      <td>COAX Norge⎜Varmtvannsbereder uten tank⎜Konta...</td>\n",
       "    </tr>\n",
       "    <tr>\n",
       "      <th>6</th>\n",
       "      <td>https://www.coax.no/valg-av-modell/#ws-block-c...</td>\n",
       "      <td>COAX Norge ⎜Varmtvannsbereder uten tank ⎜Fin...</td>\n",
       "    </tr>\n",
       "    <tr>\n",
       "      <th>7</th>\n",
       "      <td>https://www.coax.no/ofte-stilte-spørsmål/</td>\n",
       "      <td>COAX Norge ⎜Spar miljø og penger med tankfri...</td>\n",
       "    </tr>\n",
       "  </tbody>\n",
       "</table>\n",
       "</div>"
      ],
      "text/plain": [
       "                                                 URL  \\\n",
       "0                    https://www.coax.no/referanser/   \n",
       "1                https://www.coax.no/valg-av-modell/   \n",
       "2        https://www.coax.no/hytterogfritidsboliger/   \n",
       "3                               https://www.coax.no/   \n",
       "4                https://www.coax.no/våre-produkter/   \n",
       "5                       https://www.coax.no/kontakt/   \n",
       "6  https://www.coax.no/valg-av-modell/#ws-block-c...   \n",
       "7          https://www.coax.no/ofte-stilte-spørsmål/   \n",
       "\n",
       "                                                Text  \n",
       "0    COAX Norge ⎜Vannvarmer for bolig, hytte og k...  \n",
       "1    COAX Norge ⎜Varmtvannsbereder uten tank ⎜Fin...  \n",
       "2    COAX Norge ⎜Vannvarmer uten tank ⎜Finn din f...  \n",
       "3    COAX Norge ⎜Spar strøm, miljø og plass ⎜Varm...  \n",
       "4    COAX Norge ⎜El-vannvarmer tilpasset forbruke...  \n",
       "5    COAX Norge⎜Varmtvannsbereder uten tank⎜Konta...  \n",
       "6    COAX Norge ⎜Varmtvannsbereder uten tank ⎜Fin...  \n",
       "7    COAX Norge ⎜Spar miljø og penger med tankfri...  "
      ]
     },
     "execution_count": 46,
     "metadata": {},
     "output_type": "execute_result"
    }
   ],
   "source": [
    "df_crape"
   ]
  },
  {
   "cell_type": "code",
   "execution_count": 47,
   "id": "74602bfa",
   "metadata": {},
   "outputs": [],
   "source": [
    "def estimate_tokens(text: str) -> int:\n",
    "    byte_count = len(text.encode('utf-8'))\n",
    "    return int(byte_count / 4)\n"
   ]
  },
  {
   "cell_type": "code",
   "execution_count": 48,
   "id": "82292d3c",
   "metadata": {},
   "outputs": [
    {
     "name": "stdout",
     "output_type": "stream",
     "text": [
      "0     214\n",
      "1    1058\n",
      "2     865\n",
      "3     649\n",
      "4    1650\n",
      "5     269\n",
      "6    1058\n",
      "7    2354\n",
      "Name: Text, dtype: int64\n"
     ]
    }
   ],
   "source": [
    "estimate_tokens_data = df_crape['Text'].apply(estimate_tokens)\n",
    "print(df_crape[\"URL\"] + estimate_tokens_data)"
   ]
  },
  {
   "cell_type": "code",
   "execution_count": 11,
   "id": "2759d6e2",
   "metadata": {},
   "outputs": [],
   "source": [
    "from google.auth.transport.requests import Request\n",
    "from google.oauth2.service_account import Credentials\n",
    "\n",
    "# Path to your service account key file\n",
    "key_path = 'ml-for-fun-393018-5adeefa67764.json' \n",
    "\n",
    "credentials = Credentials.from_service_account_file(\n",
    "    key_path,\n",
    "    scopes=['https://www.googleapis.com/auth/cloud-platform'])\n",
    "\n",
    "if credentials.expired:\n",
    "    credentials.refresh(Request())\n",
    "    \n",
    "PROJECT_ID = 'ml-for-fun-393018'\n",
    "REGION = 'us-central1'"
   ]
  },
  {
   "cell_type": "code",
   "execution_count": 42,
   "id": "2faede38",
   "metadata": {},
   "outputs": [],
   "source": [
    "#%pip install google-cloud-aiplatform"
   ]
  },
  {
   "cell_type": "code",
   "execution_count": 43,
   "id": "33996e75",
   "metadata": {},
   "outputs": [],
   "source": [
    "import vertexai\n",
    "vertexai.init(project=PROJECT_ID, location=REGION, credentials = credentials)\n",
    "from vertexai.language_models import TextEmbeddingModel\n",
    "embedding_model = TextEmbeddingModel.from_pretrained(\n",
    "    \"textembedding-gecko@001\")"
   ]
  },
  {
   "cell_type": "code",
   "execution_count": null,
   "id": "251f3e5f",
   "metadata": {},
   "outputs": [],
   "source": []
  }
 ],
 "metadata": {
  "kernelspec": {
   "display_name": "Python 3 (ipykernel)",
   "language": "python",
   "name": "python3"
  },
  "language_info": {
   "codemirror_mode": {
    "name": "ipython",
    "version": 3
   },
   "file_extension": ".py",
   "mimetype": "text/x-python",
   "name": "python",
   "nbconvert_exporter": "python",
   "pygments_lexer": "ipython3",
   "version": "3.11.4"
  }
 },
 "nbformat": 4,
 "nbformat_minor": 5
}
